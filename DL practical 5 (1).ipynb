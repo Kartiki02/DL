{
 "cells": [
  {
   "cell_type": "code",
   "execution_count": 3,
   "id": "2a95d348",
   "metadata": {},
   "outputs": [
    {
     "name": "stdout",
     "output_type": "stream",
     "text": [
      "Collecting gensim\n",
      "  Downloading gensim-4.2.0-cp38-cp38-win_amd64.whl (24.0 MB)\n",
      "Requirement already satisfied: scipy>=0.18.1 in c:\\programdata\\anaconda3\\lib\\site-packages (from gensim) (1.6.2)\n",
      "Requirement already satisfied: numpy>=1.17.0 in c:\\programdata\\anaconda3\\lib\\site-packages (from gensim) (1.20.1)\n",
      "Collecting smart-open>=1.8.1\n",
      "  Downloading smart_open-6.2.0-py3-none-any.whl (58 kB)\n",
      "Collecting Cython==0.29.28\n",
      "  Downloading Cython-0.29.28-py2.py3-none-any.whl (983 kB)\n",
      "Installing collected packages: smart-open, Cython, gensim\n",
      "  Attempting uninstall: Cython\n",
      "    Found existing installation: Cython 0.29.23\n",
      "    Uninstalling Cython-0.29.23:\n",
      "      Successfully uninstalled Cython-0.29.23\n",
      "Successfully installed Cython-0.29.28 gensim-4.2.0 smart-open-6.2.0\n",
      "Note: you may need to restart the kernel to use updated packages.\n"
     ]
    }
   ],
   "source": [
    "pip install -U gensim"
   ]
  },
  {
   "cell_type": "code",
   "execution_count": 1,
   "id": "3ee28ea8",
   "metadata": {},
   "outputs": [],
   "source": [
    "import numpy as np #import libraries\n",
    "import keras.backend as K\n",
    "from keras.models import Sequential\n",
    "from keras.layers import Dense,Embedding,Lambda\n",
    "from keras.utils import np_utils\n",
    "from keras.preprocessing import sequence \n",
    "from keras.preprocessing.text import Tokenizer\n",
    "import gensim"
   ]
  },
  {
   "cell_type": "code",
   "execution_count": 3,
   "id": "cf8291d7",
   "metadata": {},
   "outputs": [],
   "source": [
    "data = open(\"F:\\corona.txt\",\"r\") #access data"
   ]
  },
  {
   "cell_type": "code",
   "execution_count": 4,
   "id": "0476054f",
   "metadata": {},
   "outputs": [],
   "source": [
    "covid_data= [text for text in data if text.count(\"\")>=2]   #prepare data\n",
    "vectorize=Tokenizer()\n",
    "vectorize.fit_on_texts(covid_data)\n",
    "covid_data=vectorize.texts_to_sequences(covid_data)\n",
    "total_vocab=sum(len(s) for s in covid_data)\n",
    "word_count=len(vectorize.word_index)+1\n",
    "window_size=2"
   ]
  },
  {
   "cell_type": "code",
   "execution_count": 5,
   "id": "ab2a80ab",
   "metadata": {},
   "outputs": [],
   "source": [
    "def cbow_model(data,windows_size, total_vocab):    #generate training data\n",
    "  total_length=window_size*2\n",
    "  for text in data:\n",
    "    text_len=len(text)\n",
    "    for idx, word in enumerate(text):\n",
    "      context_word=[]\n",
    "      target=[]\n",
    "      begin=idx-window_size\n",
    "      end=idx+window_size+1\n",
    "      context_word.append([text[i] for i in range(begin,end) if 0<- i< text_len and i!=idx])\n",
    "      target.append(word)\n",
    "      contextual = sequence.pad_sequences(context_word, total_length=total_length)\n",
    "      final_target=np_utils.to_categorical(target, total_vocab)\n",
    "      yield(contextual, final_target)"
   ]
  },
  {
   "cell_type": "code",
   "execution_count": 6,
   "id": "343de4c9",
   "metadata": {},
   "outputs": [
    {
     "name": "stdout",
     "output_type": "stream",
     "text": [
      "0 0\n",
      "1 0\n",
      "2 0\n",
      "3 0\n",
      "4 0\n",
      "5 0\n",
      "6 0\n",
      "7 0\n",
      "8 0\n",
      "9 0\n"
     ]
    }
   ],
   "source": [
    "model=Sequential()   #train model\n",
    "model.add(Embedding(input_dim=total_vocab,output_dim=100,input_length=window_size*2))\n",
    "model.add(Lambda(lambda x:K.mean(x,axis=1), output_shape=(100,)))\n",
    "model.add(Dense(total_vocab, activation=\"softmax\"))\n",
    "model.compile(loss=\"categorical_crossentropy\", optimizer=\"adam\")\n",
    "for i in range(10):\n",
    "  cost=0\n",
    "  for x, y in cbow_model(data,window_size, total_vocab):\n",
    "    cost+=model.train_on_batch(contextual, final_target)\n",
    "  print(i, cost)"
   ]
  },
  {
   "cell_type": "code",
   "execution_count": 9,
   "id": "a708ecbc",
   "metadata": {},
   "outputs": [
    {
     "data": {
      "text/plain": [
       "8"
      ]
     },
     "execution_count": 9,
     "metadata": {},
     "output_type": "execute_result"
    }
   ],
   "source": [
    "dimensions = 100   #output\n",
    "vect_file=open(\"F:/vector.txt\", \"w\")\n",
    "vect_file.write('{} {}\\n'.format(total_vocab, dimensions))\n"
   ]
  }
 ],
 "metadata": {
  "kernelspec": {
   "display_name": "Python 3 (ipykernel)",
   "language": "python",
   "name": "python3"
  },
  "language_info": {
   "codemirror_mode": {
    "name": "ipython",
    "version": 3
   },
   "file_extension": ".py",
   "mimetype": "text/x-python",
   "name": "python",
   "nbconvert_exporter": "python",
   "pygments_lexer": "ipython3",
   "version": "3.9.13"
  }
 },
 "nbformat": 4,
 "nbformat_minor": 5
}
